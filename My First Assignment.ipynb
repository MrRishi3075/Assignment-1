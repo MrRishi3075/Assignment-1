{
 "cells": [
  {
   "cell_type": "markdown",
   "id": "c6fb1af3-03c9-4785-a0ee-7a2c25635bdc",
   "metadata": {},
   "source": [
    "1. Create one variable containing following type of data:\n",
    "(i) string\n",
    "(ii) list\n",
    "(iii)float\n",
    "(iv)tuple"
   ]
  },
  {
   "cell_type": "code",
   "execution_count": 10,
   "id": "4405666a-9f79-4277-9b52-cf57cf048fb4",
   "metadata": {},
   "outputs": [],
   "source": [
    "l=(\"Rishi\",\"Pwskills\",23.56,[23,45,89,\"Kumar\"],(\"Data Science 2.0\"))"
   ]
  },
  {
   "cell_type": "code",
   "execution_count": 11,
   "id": "f6ceedf1-75e5-4f5a-b511-2fbf519b48bf",
   "metadata": {},
   "outputs": [
    {
     "data": {
      "text/plain": [
       "tuple"
      ]
     },
     "execution_count": 11,
     "metadata": {},
     "output_type": "execute_result"
    }
   ],
   "source": [
    "type(l)"
   ]
  },
  {
   "cell_type": "code",
   "execution_count": 12,
   "id": "663f4cf9-c691-4f57-8534-7296c101b36f",
   "metadata": {},
   "outputs": [
    {
     "name": "stdout",
     "output_type": "stream",
     "text": [
      "<class 'str'>\n",
      "<class 'str'>\n",
      "<class 'float'>\n",
      "<class 'list'>\n",
      "<class 'str'>\n"
     ]
    }
   ],
   "source": [
    "for i in l:\n",
    "    print(type(i))"
   ]
  },
  {
   "cell_type": "markdown",
   "id": "9382e098-ae3c-4d25-8771-784da78fdeeb",
   "metadata": {},
   "source": [
    "Q2. Given are some following variables containing data\n",
    "\n",
    "\n",
    "(i)var1 = ‘ ‘..............Type Of Data Is str.\n",
    "\n",
    "(ii)var2 = ‘[ DS , ML , Python]’............Type Of Data Is str.\n",
    "\n",
    "(iii)var3 = [ ‘DS’ , ’ML’ , ‘Python’ ]..............Type Of Data Is list.\n",
    "\n",
    "(iv)var4 = 1.................................Type Of Data Is int.\n"
   ]
  },
  {
   "cell_type": "code",
   "execution_count": 13,
   "id": "a28a005b-6b13-4282-9b7a-d9c5e2792ff3",
   "metadata": {},
   "outputs": [],
   "source": [
    "var1 = ''"
   ]
  },
  {
   "cell_type": "code",
   "execution_count": 14,
   "id": "209a596e-70d4-4a4c-aad8-12ae9938f596",
   "metadata": {},
   "outputs": [
    {
     "data": {
      "text/plain": [
       "str"
      ]
     },
     "execution_count": 14,
     "metadata": {},
     "output_type": "execute_result"
    }
   ],
   "source": [
    "type(var1)"
   ]
  },
  {
   "cell_type": "code",
   "execution_count": 15,
   "id": "92e5a588-8e2a-44cb-a5cb-3451158a2e68",
   "metadata": {},
   "outputs": [],
   "source": [
    "var2 = '[ DS , ML , Python]'"
   ]
  },
  {
   "cell_type": "code",
   "execution_count": 16,
   "id": "da062273-8404-4533-9f60-6815d068ebc1",
   "metadata": {},
   "outputs": [
    {
     "data": {
      "text/plain": [
       "str"
      ]
     },
     "execution_count": 16,
     "metadata": {},
     "output_type": "execute_result"
    }
   ],
   "source": [
    "type(var2)"
   ]
  },
  {
   "cell_type": "code",
   "execution_count": 18,
   "id": "ea865242-d6ae-4df7-9784-556853c92ab1",
   "metadata": {},
   "outputs": [],
   "source": [
    "var3 = [ 'DS' , 'ML' , 'Python' ]"
   ]
  },
  {
   "cell_type": "code",
   "execution_count": 19,
   "id": "0844f677-3bc9-4e8f-8896-c11988b675a2",
   "metadata": {},
   "outputs": [
    {
     "data": {
      "text/plain": [
       "list"
      ]
     },
     "execution_count": 19,
     "metadata": {},
     "output_type": "execute_result"
    }
   ],
   "source": [
    "type(var3)"
   ]
  },
  {
   "cell_type": "code",
   "execution_count": 20,
   "id": "0f82004c-229a-4796-93c0-265cabb0bbb7",
   "metadata": {},
   "outputs": [],
   "source": [
    "var4 = 1"
   ]
  },
  {
   "cell_type": "code",
   "execution_count": 21,
   "id": "6c30cc99-0dbb-4679-9266-3a8e19c5a6d2",
   "metadata": {},
   "outputs": [
    {
     "data": {
      "text/plain": [
       "int"
      ]
     },
     "execution_count": 21,
     "metadata": {},
     "output_type": "execute_result"
    }
   ],
   "source": [
    "type(var4)"
   ]
  },
  {
   "cell_type": "markdown",
   "id": "ddf6078f-ee7e-492a-a457-4239e9c0a1dd",
   "metadata": {},
   "source": [
    "Q3. Explain the use of the following operators using an example:\n",
    "\n",
    "(i)\t/\n",
    "\n",
    "(ii)\t% \n",
    "\n",
    "(iii)\t//\n",
    "\n",
    "(iv)\t**"
   ]
  },
  {
   "cell_type": "code",
   "execution_count": 22,
   "id": "fc1321dc-b407-448b-ab55-227e8cb533e3",
   "metadata": {},
   "outputs": [
    {
     "data": {
      "text/plain": [
       "1.3333333333333333"
      ]
     },
     "execution_count": 22,
     "metadata": {},
     "output_type": "execute_result"
    }
   ],
   "source": [
    "4/3"
   ]
  },
  {
   "cell_type": "code",
   "execution_count": 34,
   "id": "b1ca84e9-57c3-428a-b63a-f056e2e40553",
   "metadata": {},
   "outputs": [
    {
     "data": {
      "text/plain": [
       "0.75"
      ]
     },
     "execution_count": 34,
     "metadata": {},
     "output_type": "execute_result"
    }
   ],
   "source": [
    "3/4          #the / operator is the division operator."
   ]
  },
  {
   "cell_type": "code",
   "execution_count": 33,
   "id": "cf5e8a39-9c32-4a8d-bdce-3084e99adb80",
   "metadata": {},
   "outputs": [
    {
     "data": {
      "text/plain": [
       "2"
      ]
     },
     "execution_count": 33,
     "metadata": {},
     "output_type": "execute_result"
    }
   ],
   "source": [
    "6%4            #The % operator is known as the modulo operator or remainder operator."
   ]
  },
  {
   "cell_type": "code",
   "execution_count": 32,
   "id": "1818b8ae-96bc-454b-97c8-0b31a25ce2dd",
   "metadata": {},
   "outputs": [
    {
     "data": {
      "text/plain": [
       "28"
      ]
     },
     "execution_count": 32,
     "metadata": {},
     "output_type": "execute_result"
    }
   ],
   "source": [
    "56//2              #The \"//\" operator is called the floor division or integer division operator.It performs division between two numbers and returns the quotient as an integer,discarding any fractional part."
   ]
  },
  {
   "cell_type": "code",
   "execution_count": 35,
   "id": "6d58bbfa-6cb9-46ea-a8f9-9999f680c046",
   "metadata": {},
   "outputs": [
    {
     "data": {
      "text/plain": [
       "8"
      ]
     },
     "execution_count": 35,
     "metadata": {},
     "output_type": "execute_result"
    }
   ],
   "source": [
    "2**3            #the double asterisk (**) is an operator used for exponentiation or raising a number to a power. It performs exponentiation by taking the base number and raising it to the power specified."
   ]
  },
  {
   "cell_type": "markdown",
   "id": "47afb89d-a088-47ea-9d17-8247cfa98459",
   "metadata": {},
   "source": [
    "Q4. Create a list of length 10 of your choice containing multiple types of data. Using for loop print the \n",
    "element and its data type"
   ]
  },
  {
   "cell_type": "code",
   "execution_count": 38,
   "id": "b657fa1c-fa5a-40a0-86ae-94921753230c",
   "metadata": {},
   "outputs": [],
   "source": [
    "l=[12,45,7,\"rishi\",'pwskills',23.56,{5,6,5,8},True,False,(\"Rishi\")]"
   ]
  },
  {
   "cell_type": "code",
   "execution_count": 39,
   "id": "76383ba7-2c1c-44ab-bc16-0f4bf6f2a8e3",
   "metadata": {},
   "outputs": [
    {
     "name": "stdout",
     "output_type": "stream",
     "text": [
      "<class 'int'>\n",
      "<class 'int'>\n",
      "<class 'int'>\n",
      "<class 'str'>\n",
      "<class 'str'>\n",
      "<class 'float'>\n",
      "<class 'set'>\n",
      "<class 'bool'>\n",
      "<class 'bool'>\n",
      "<class 'str'>\n"
     ]
    }
   ],
   "source": [
    "for i in l :\n",
    "    print(type(i))"
   ]
  },
  {
   "cell_type": "code",
   "execution_count": 41,
   "id": "d5b8f053-9b72-470d-a21f-89fd21158633",
   "metadata": {},
   "outputs": [
    {
     "data": {
      "text/plain": [
       "10"
      ]
     },
     "execution_count": 41,
     "metadata": {},
     "output_type": "execute_result"
    }
   ],
   "source": [
    "len(l)"
   ]
  },
  {
   "cell_type": "markdown",
   "id": "969e7589-e57c-4163-97dc-a4dc0d5d9c8c",
   "metadata": {},
   "source": [
    "Q5. Using a while loop, verify if the number A is purely divisible by number B and if so then how many \n",
    "times it can be divisible."
   ]
  },
  {
   "cell_type": "code",
   "execution_count": 19,
   "id": "58b1b65e-3d14-4ec5-abce-b509a6878d3b",
   "metadata": {},
   "outputs": [
    {
     "name": "stdout",
     "output_type": "stream",
     "text": [
      "20.0 is divisible by 25 and can be divided 3 times.\n"
     ]
    }
   ],
   "source": [
    "A = 500\n",
    "B = 25\n",
    "\n",
    "count = 2\n",
    "\n",
    "while A % B == 0:\n",
    "    A /= B\n",
    "    count += 1\n",
    "\n",
    "if count > 0:\n",
    "    print(f\"{A} is divisible by {B} and can be divided {count} times.\")\n",
    "else:\n",
    "    print(f\"{A} is not divisible by {B}.\")\n"
   ]
  },
  {
   "cell_type": "code",
   "execution_count": null,
   "id": "398de663-a51e-4fe3-88fe-0a84dfcaf69c",
   "metadata": {},
   "outputs": [],
   "source": []
  },
  {
   "cell_type": "code",
   "execution_count": null,
   "id": "9388f8c5-ef97-4409-965b-b99641eff56f",
   "metadata": {},
   "outputs": [],
   "source": []
  },
  {
   "cell_type": "code",
   "execution_count": null,
   "id": "9d34a572-8f8a-432d-bdde-d16dd908d114",
   "metadata": {},
   "outputs": [],
   "source": []
  },
  {
   "cell_type": "markdown",
   "id": "55fb1e63-34f1-4405-8106-271ca48cb5f4",
   "metadata": {},
   "source": [
    "Q6. Create a list containing 25 int type data. Using for loop and if-else condition print if the element is \n",
    "divisible by 3 or not"
   ]
  },
  {
   "cell_type": "code",
   "execution_count": 3,
   "id": "2f19f139-af77-40e4-8102-af042be7c488",
   "metadata": {},
   "outputs": [],
   "source": [
    "l=[23,23,24,26,28,27,56,45,48,43,15,18,21,81,87,92,3,102,99,93,54,78,69,33,55]"
   ]
  },
  {
   "cell_type": "code",
   "execution_count": 4,
   "id": "58e5350d-5e7f-4ce3-a7af-ce6597bda10c",
   "metadata": {},
   "outputs": [
    {
     "data": {
      "text/plain": [
       "25"
      ]
     },
     "execution_count": 4,
     "metadata": {},
     "output_type": "execute_result"
    }
   ],
   "source": [
    "len(l)"
   ]
  },
  {
   "cell_type": "code",
   "execution_count": 24,
   "id": "154493e6-1d61-46f6-975d-49b23ab43d9f",
   "metadata": {},
   "outputs": [
    {
     "name": "stdout",
     "output_type": "stream",
     "text": [
      "23 is not divisible by 3\n",
      "23 is not divisible by 3\n",
      "24 is divisible by 3\n",
      "26 is not divisible by 3\n",
      "28 is not divisible by 3\n",
      "27 is divisible by 3\n",
      "56 is not divisible by 3\n",
      "45 is divisible by 3\n",
      "48 is divisible by 3\n",
      "43 is not divisible by 3\n",
      "15 is divisible by 3\n",
      "18 is divisible by 3\n",
      "21 is divisible by 3\n",
      "81 is divisible by 3\n",
      "87 is divisible by 3\n",
      "92 is not divisible by 3\n",
      "3 is divisible by 3\n",
      "102 is divisible by 3\n",
      "99 is divisible by 3\n",
      "93 is divisible by 3\n",
      "54 is divisible by 3\n",
      "78 is divisible by 3\n",
      "69 is divisible by 3\n",
      "33 is divisible by 3\n",
      "55 is not divisible by 3\n"
     ]
    }
   ],
   "source": [
    "for i in l:\n",
    "    if i % 3 == 0:\n",
    "        print(f\"{i} is divisible by 3\")\n",
    "    else:\n",
    "        print(f\"{i} is not divisible by 3\")\n",
    "        "
   ]
  },
  {
   "cell_type": "markdown",
   "id": "c9d85d87-66e1-4084-81ae-f0ade68c8475",
   "metadata": {},
   "source": [
    "Q7. What do you understand about mutable and immutable data types? Give examples for both showing \n",
    "this property."
   ]
  },
  {
   "cell_type": "markdown",
   "id": "2f7f791f-4120-4152-a14a-cbcb797956a2",
   "metadata": {},
   "source": [
    "Mutable and immutable are terms used to describe whether a data type can be modified after it is created.\n",
    "\n",
    "Immutable data types cannot be modified once they are created. If you want to change the value of an immutable object, you need to create a new object with the updated value."
   ]
  },
  {
   "cell_type": "markdown",
   "id": "652bb41c-8a8b-4d90-975c-bd758469908c",
   "metadata": {},
   "source": [
    "1.Integers: Once an integer is created, its value cannot be changed. For example:"
   ]
  },
  {
   "cell_type": "code",
   "execution_count": 26,
   "id": "cbb12095-fab3-43fc-ad24-405f2f2b93b0",
   "metadata": {},
   "outputs": [],
   "source": [
    "x = 5\n",
    "x += 1  # This creates a new integer object with the value 6\n"
   ]
  },
  {
   "cell_type": "code",
   "execution_count": 27,
   "id": "466e78c4-93d5-4647-9a8c-4c7cba347ae3",
   "metadata": {},
   "outputs": [
    {
     "data": {
      "text/plain": [
       "6"
      ]
     },
     "execution_count": 27,
     "metadata": {},
     "output_type": "execute_result"
    }
   ],
   "source": [
    "x"
   ]
  },
  {
   "cell_type": "markdown",
   "id": "7c0bfda1-e74d-419e-b4ee-5e7eed1c5ed4",
   "metadata": {},
   "source": [
    "Strings: Strings are immutable in Python. Any operation that appears to modify a string actually creates a new string object. For example:"
   ]
  },
  {
   "cell_type": "code",
   "execution_count": 28,
   "id": "695f10a1-c0a8-44ec-aa39-a45cf576517f",
   "metadata": {},
   "outputs": [],
   "source": [
    "name = \"Alice\"\n",
    "name += \" Smith\"  # This creates a new string object with the value \"Alice Smith\"\n"
   ]
  },
  {
   "cell_type": "code",
   "execution_count": 29,
   "id": "101a7140-0a52-4c84-b6e9-bb44b8e6d291",
   "metadata": {},
   "outputs": [
    {
     "data": {
      "text/plain": [
       "'Alice Smith'"
      ]
     },
     "execution_count": 29,
     "metadata": {},
     "output_type": "execute_result"
    }
   ],
   "source": [
    "name"
   ]
  },
  {
   "cell_type": "markdown",
   "id": "a6449be4-93d1-406b-91c6-31a746299fe3",
   "metadata": {},
   "source": [
    "Tuples: Tuples are immutable sequences. Once created, the elements of a tuple cannot be modified. For example:"
   ]
  },
  {
   "cell_type": "code",
   "execution_count": 30,
   "id": "a73d4e6d-14b7-4775-ad1b-053a30556fe9",
   "metadata": {},
   "outputs": [],
   "source": [
    "my_tuple = (1, 2, 3)\n",
    "# Attempting to modify the tuple will result in an error:\n",
    "# my_tuple[0] = 10  # This will raise a TypeError\n"
   ]
  },
  {
   "cell_type": "code",
   "execution_count": 33,
   "id": "9c707e53-5b37-4fb3-b170-2d8eb976247e",
   "metadata": {},
   "outputs": [
    {
     "ename": "TypeError",
     "evalue": "'tuple' object does not support item assignment",
     "output_type": "error",
     "traceback": [
      "\u001b[0;31m---------------------------------------------------------------------------\u001b[0m",
      "\u001b[0;31mTypeError\u001b[0m                                 Traceback (most recent call last)",
      "Cell \u001b[0;32mIn[33], line 1\u001b[0m\n\u001b[0;32m----> 1\u001b[0m \u001b[43mmy_tuple\u001b[49m\u001b[43m \u001b[49m\u001b[43m[\u001b[49m\u001b[38;5;241;43m0\u001b[39;49m\u001b[43m]\u001b[49m \u001b[38;5;241m=\u001b[39m\u001b[38;5;241m10\u001b[39m\n",
      "\u001b[0;31mTypeError\u001b[0m: 'tuple' object does not support item assignment"
     ]
    }
   ],
   "source": [
    "my_tuple [0] =10"
   ]
  },
  {
   "cell_type": "markdown",
   "id": "c19cd42c-45c4-473f-9d22-1d7ceac026ce",
   "metadata": {},
   "source": [
    "On the other hand, mutable data types can be modified after they are created. Examples of mutable data types in Python include:"
   ]
  },
  {
   "cell_type": "code",
   "execution_count": 4,
   "id": "42ff502d-5c8c-42cb-a3dc-7d864ff25d71",
   "metadata": {},
   "outputs": [],
   "source": [
    "l = [1, 2, 3]\n",
    "l.append(4)  # Adds 4 to the end of the list\n",
    "l[0] = 10  # Modifies the first element of the list\n"
   ]
  },
  {
   "cell_type": "code",
   "execution_count": 5,
   "id": "90f29d49-3077-4b68-a07a-7634ea74ce46",
   "metadata": {},
   "outputs": [
    {
     "data": {
      "text/plain": [
       "[10, 2, 3, 4]"
      ]
     },
     "execution_count": 5,
     "metadata": {},
     "output_type": "execute_result"
    }
   ],
   "source": [
    "l"
   ]
  },
  {
   "cell_type": "markdown",
   "id": "ee6c6739-f961-4a41-8e06-fb8ac0d95c2c",
   "metadata": {},
   "source": [
    "Dictionaries: Dictionaries are mutable mappings. Key-value pairs can be added, removed, or modified in a dictionary. For example:\n"
   ]
  },
  {
   "cell_type": "code",
   "execution_count": 6,
   "id": "cbdb1a4a-7d2d-4b97-943a-7df6abc249a0",
   "metadata": {},
   "outputs": [],
   "source": [
    "my_dict = {\"name\": \"John\", \"age\": 25}\n",
    "my_dict[\"age\"] = 26  # Modifies the value associated with the \"age\" key\n",
    "my_dict[\"city\"] = \"New York\"  # Adds a new key-value pair to the dictionary\n"
   ]
  },
  {
   "cell_type": "code",
   "execution_count": 7,
   "id": "b330584f-5225-490a-bcb5-c1ea61328071",
   "metadata": {},
   "outputs": [
    {
     "data": {
      "text/plain": [
       "{'name': 'John', 'age': 26, 'city': 'New York'}"
      ]
     },
     "execution_count": 7,
     "metadata": {},
     "output_type": "execute_result"
    }
   ],
   "source": [
    "my_dict"
   ]
  },
  {
   "cell_type": "markdown",
   "id": "b21eb4ed-1843-48bb-8172-ef4666fa836a",
   "metadata": {},
   "source": [
    "Sets: Sets are mutable collections of unique elements. Elements can be added or removed from a set. For example:"
   ]
  },
  {
   "cell_type": "code",
   "execution_count": 8,
   "id": "bbfc8054-8bc6-4862-bc36-d117599558bc",
   "metadata": {},
   "outputs": [],
   "source": [
    "my_set = {1, 2, 3}\n",
    "my_set.add(4)  # Adds 4 to the set\n",
    "my_set.remove(2)  # Removes 2 from the set\n"
   ]
  },
  {
   "cell_type": "code",
   "execution_count": 9,
   "id": "cc3a0740-f612-4cdd-a119-db7157d87da4",
   "metadata": {},
   "outputs": [
    {
     "data": {
      "text/plain": [
       "{1, 3, 4}"
      ]
     },
     "execution_count": 9,
     "metadata": {},
     "output_type": "execute_result"
    }
   ],
   "source": [
    "my_set"
   ]
  }
 ],
 "metadata": {
  "kernelspec": {
   "display_name": "Python 3 (ipykernel)",
   "language": "python",
   "name": "python3"
  },
  "language_info": {
   "codemirror_mode": {
    "name": "ipython",
    "version": 3
   },
   "file_extension": ".py",
   "mimetype": "text/x-python",
   "name": "python",
   "nbconvert_exporter": "python",
   "pygments_lexer": "ipython3",
   "version": "3.10.8"
  }
 },
 "nbformat": 4,
 "nbformat_minor": 5
}
